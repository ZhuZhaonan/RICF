{
 "cells": [
  {
   "cell_type": "code",
   "execution_count": 24,
   "metadata": {
    "collapsed": true
   },
   "outputs": [],
   "source": [
    "import pandas as pd\n",
    "name_index_file=pd.read_csv('https://github.com/ma-ji/RICF/raw/master/index/name_index.tsv', sep='\\t')\n",
    "\n",
    "def ricf_nm2id(fund_nm):\n",
    "    re_id_set=set(name_index_file[name_index_file.ba_cn==fund_nm]['ricf_oid'])\n",
    "    if len(re_id_set)==1:\n",
    "        return {fund_nm:list(re_id_set)[0]}\n",
    "    elif len(re_id_set)>1:\n",
    "        return {fund_nm:list(re_id_set)}\n",
    "    elif len(re_id_set)<1:\n",
    "        return 'NA'\n",
    "\n",
    "def ricf_id2nm(oid):\n",
    "    re_nm_set=set(name_index_file[name_index_file.ricf_oid==int(oid)]['ba_cn'])\n",
    "    if len(re_nm_set)==1:\n",
    "        return {oid:list(re_nm_set)[0]}\n",
    "    elif len(re_nm_set)>1:\n",
    "        return {oid:list(re_nm_set)}\n",
    "    elif len(re_nm_set)<1:\n",
    "        return 'NA'"
   ]
  },
  {
   "cell_type": "code",
   "execution_count": null,
   "metadata": {
    "collapsed": true
   },
   "outputs": [],
   "source": []
  }
 ],
 "metadata": {
  "kernelspec": {
   "display_name": "Python [conda env:a_py3]",
   "language": "python",
   "name": "conda-env-a_py3-py"
  },
  "language_info": {
   "codemirror_mode": {
    "name": "ipython",
    "version": 3
   },
   "file_extension": ".py",
   "mimetype": "text/x-python",
   "name": "python",
   "nbconvert_exporter": "python",
   "pygments_lexer": "ipython3",
   "version": "3.6.1"
  },
  "toc": {
   "colors": {
    "hover_highlight": "#DAA520",
    "running_highlight": "#FF0000",
    "selected_highlight": "#FFD700"
   },
   "moveMenuLeft": true,
   "nav_menu": {
    "height": "12px",
    "width": "252px"
   },
   "navigate_menu": true,
   "number_sections": true,
   "sideBar": true,
   "threshold": 4,
   "toc_cell": false,
   "toc_section_display": "block",
   "toc_window_display": false
  }
 },
 "nbformat": 4,
 "nbformat_minor": 2
}
