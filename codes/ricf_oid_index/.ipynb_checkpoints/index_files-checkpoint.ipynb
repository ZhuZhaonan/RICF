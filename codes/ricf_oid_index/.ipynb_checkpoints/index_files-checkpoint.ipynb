{
 "cells": [
  {
   "cell_type": "code",
   "execution_count": 92,
   "metadata": {
    "collapsed": true
   },
   "outputs": [],
   "source": [
    "import pandas as pd"
   ]
  },
  {
   "cell_type": "markdown",
   "metadata": {},
   "source": [
    "### Name index: name index, name change index."
   ]
  },
  {
   "cell_type": "code",
   "execution_count": 93,
   "metadata": {
    "scrolled": true
   },
   "outputs": [],
   "source": [
    "df_basic_13=pd.read_csv('../../2013/2013_basic_profile.tsv', sep='\\t', header=1).set_index('ricf_oid', drop=False)[['ba_cn']]\n",
    "df_basic_14=pd.read_csv('../../2014/2014_basic_profile.tsv', sep='\\t', header=1).set_index('ricf_id', drop=False)[['ba_cn']]\n",
    "df_basic_15=pd.read_csv('../../2015/2015_basic_profile.tsv', sep='\\t', header=1).set_index('ricf_oid', drop=False)[['ba_cn']]"
   ]
  },
  {
   "cell_type": "code",
   "execution_count": 94,
   "metadata": {
    "scrolled": true
   },
   "outputs": [],
   "source": [
    "df_basic_13['ind_year']=2013\n",
    "df_basic_14['ind_year']=2014\n",
    "df_basic_15['ind_year']=2015"
   ]
  },
  {
   "cell_type": "code",
   "execution_count": 95,
   "metadata": {
    "scrolled": true
   },
   "outputs": [],
   "source": [
    "df_name_index=pd.concat([df_basic_13, df_basic_14, df_basic_15], axis=0)\n",
    "df_name_index['ricf_oid']=df_name_index.index\n",
    "df_name_index['ba_cn']=[s.strip() for s in df_name_index['ba_cn']]\n",
    "\n",
    "df_name_index=df_name_index.sort_values(by=['ricf_oid', 'ind_year'])\n",
    "df_name_index.to_csv('../../index/name_index.tsv', sep='\\t', encoding='utf8', index=False)"
   ]
  },
  {
   "cell_type": "code",
   "execution_count": 98,
   "metadata": {},
   "outputs": [],
   "source": [
    "ricf_oid_change=[]\n",
    "for ricf_oid in set(df_name_index.index):\n",
    "    if type(df_name_index.loc[ricf_oid, 'ba_cn'])!=str:\n",
    "        if len(set(df_name_index.loc[ricf_oid, 'ba_cn']))!=1:\n",
    "            ricf_oid_change.append(ricf_oid)\n",
    "\n",
    "df_name_index.loc[ricf_oid_change].to_csv('../../index/name_change_index.tsv', sep='\\t', encoding='utf8', index=False)"
   ]
  },
  {
   "cell_type": "code",
   "execution_count": null,
   "metadata": {
    "collapsed": true
   },
   "outputs": [],
   "source": []
  }
 ],
 "metadata": {
  "kernelspec": {
   "display_name": "Python [conda env:a_py3]",
   "language": "python",
   "name": "conda-env-a_py3-py"
  },
  "language_info": {
   "codemirror_mode": {
    "name": "ipython",
    "version": 3
   },
   "file_extension": ".py",
   "mimetype": "text/x-python",
   "name": "python",
   "nbconvert_exporter": "python",
   "pygments_lexer": "ipython3",
   "version": "3.6.1"
  },
  "toc": {
   "colors": {
    "hover_highlight": "#DAA520",
    "running_highlight": "#FF0000",
    "selected_highlight": "#FFD700"
   },
   "moveMenuLeft": true,
   "nav_menu": {
    "height": "47px",
    "width": "252px"
   },
   "navigate_menu": true,
   "number_sections": true,
   "sideBar": true,
   "threshold": 4,
   "toc_cell": false,
   "toc_section_display": "block",
   "toc_window_display": false
  }
 },
 "nbformat": 4,
 "nbformat_minor": 2
}
